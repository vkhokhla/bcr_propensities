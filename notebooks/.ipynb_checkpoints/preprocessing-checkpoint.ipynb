{
 "cells": [
  {
   "cell_type": "code",
   "execution_count": 3,
   "metadata": {
    "collapsed": true
   },
   "outputs": [],
   "source": [
    "import pandas as pd\n",
    "import numpy as np\n",
    "import timeit"
   ]
  },
  {
   "cell_type": "code",
   "execution_count": 12,
   "metadata": {
    "collapsed": true
   },
   "outputs": [],
   "source": [
    "#dtype_dict = { 'DAX': str, 'CIC': np.uint32, 'BIRTH_DATE': str, 'CLIENT_START_DATE': str,\n",
    "#               'SEGMENT': str, 'SUBSEGMENT': str, 'GENDER': str,\n",
    "#               'MARITAL_STATUS': str, 'EDUCATION': str, 'PROFESSION': np.int16, 'BCR_EMPLOYEE': str,\n",
    "#               'WORKOUT_FLAG': str, 'RATING_VALUE': str, 'BRANCH_CODE': np.uint16, 'CLIENT_DPD': np.uint16,\n",
    "#               'MARKETING_AGREEMENT': str, 'FLAG_ACTIVE_34': bool, \n",
    "#               'UNSECURED': np.uint8, 'SECURED': np.uint8, 'CREDITCARD': np.uint8, 'OVERDRAFT': np.uint8,\n",
    "#               'DEPOZIT': np.uint8, 'SAVING_PLAN': np.uint8, 'MAXICONT': np.uint8, 'PPI': np.uint8,\n",
    "#               'UL_KI': np.uint8, 'INDX_LINK': np.uint8, 'HEALTH': np.uint8, 'ACP': np.uint8,\n",
    "#               'PAD': np.uint8, 'ASSET': np.uint8, 'TITLURI': np.uint8, 'AUR': np.uint8,\n",
    "#               'PENSII': np.uint8, 'DIRECT_DEBIT': np.uint8, 'STANDING_ORDER': np.uint8,\n",
    "#               'TRANZACTII_POS': np.uint8, 'NET_BANKING': np.uint8,\n",
    "#               'JUNIOR': np.uint8, 'CAMPUS': np.uint8, 'COMOD': np.uint8, 'CLASIC': np.uint8, 'TOTAL': np.uint8,\n",
    "#               'PBS_TYPE': str,\n",
    "#               'CM1_A': np.float16, 'CM1_L': np.float16, 'NFC': np.float16,\n",
    "#               'BALANCE_MAX_CAS': np.float16, 'BALANCE_AVG_CAS': np.float16, 'BALANCE_MIN_CA_3MONTHS': np.float16,\n",
    "#               'BALANCE_MAX_DEPOSITS_3MONTHS': np.float16, \n",
    "#               'SALARY': np.float16, 'NO_SALARY': np.uint8,\n",
    "#               'CASH_LAST_MONTH': np.float16, 'NO_CASH_LAST_MONTH': np.uint8,\n",
    "#               'OUTGOINGS_MONTH': np.float16, 'NO_OUTGOINGS_MONTH': np.uint8\n",
    "#}\n",
    "\n",
    "segment_dict = {'MM':1, 'MA':2, 'PB':3 }\n",
    "\n",
    "subsegment_dict = {'XNA':-1,\n",
    "                   'EMPL':1, \n",
    "                   'RETIRED':2, \n",
    "                   'STUD':3, \n",
    "                   'UNEMPL':4, \n",
    "                   'CHILD_ADOL':5, \n",
    "                   'SELF_EMPL':6, \n",
    "                   'PUBL_SERV':7, \n",
    "                   'DOCTOR':8, \n",
    "                   'LAWYER':9, \n",
    "                   'OWN_EMPL_ACT':99, \n",
    "                   'ASSOC_FAM':99, \n",
    "                   'CIV_ENG':99, \n",
    "                   'FREELANCER':99, \n",
    "                   'PUBL_ACC':99, \n",
    "                   'NOTAR':99, \n",
    "                   'DENTIST':99, \n",
    "                   'VETERINARIES':99, \n",
    "                   'PHARM':99, \n",
    "                   'MEDIATORI':99, \n",
    "                   'PUBL_ACC':99, \n",
    "                   'OWN_EMPL_RET':99, \n",
    "                   'OTHERS':99}\n",
    "\n",
    "gender_dict = {'F':1, 'M':2}\n",
    "\n",
    "marital_status_dict = {'X': -1, 'C':1, 'N':2, 'D':3, 'V':4} # Merried, not merried, divorced, widow\n",
    "\n",
    "education_dict = {'XNA':-1, \n",
    "                  'Alte forme de invatamant':1,\n",
    "                  'Scoala primara':2, \n",
    "                  'Scoala profesionala':3, \n",
    "                  'Scoala postliceala':4,\n",
    "                  'Gimnaziu':5,\n",
    "                  'Colegiu':6,\n",
    "                  'Liceu':7,\n",
    "                  'Master':8,\n",
    "                  'Universitate':9\n",
    "                 }\n",
    "\n",
    "bcr_employee_dict = {'N':0, 'Y':1}\n",
    "workout_flag_dict = {'N':0, 'Y':1}\n",
    "\n",
    "rating_value_dict = {'N':-1, 'R':1, 'D2':2, 'D1':3, 'C2':4, 'C1':5, 'B2':6, 'B1':7, 'A2':8, 'A1':9}\n",
    "\n",
    "marketing_agreement_dict = {'X':-1, 'N':0, 'Y':1}"
   ]
  },
  {
   "cell_type": "code",
   "execution_count": 1,
   "metadata": {
    "collapsed": true
   },
   "outputs": [],
   "source": [
    "def process_data(df):\n",
    "    df['CIC'] = df['CIC'].astype(np.uint32)\n",
    "    \n",
    "    df['AGE'] = (df.apply(lambda x: (int(x['DAX'][:4]) - int(x['BIRTH_DATE'][:4])) * 12 +\n",
    "                                     int(x['DAX'][5:7]) - int(x['BIRTH_DATE'][5:7])\n",
    "                                     if int(x['DAX'][:4]) > 1900 else -1                 # data quality\n",
    "                          , axis=1).astype(np.int8))\n",
    "    df.drop('BIRTH_DATE', axis = 1, inplace = True)\n",
    "\n",
    "    df['TENOR'] = (df.apply(lambda x: (int(x['DAX'][:4]) - int(x['CLIENT_START_DATE'][:4])) * 12 +\n",
    "                                       int(x['DAX'][5:7]) - int(x['CLIENT_START_DATE'][5:7])\n",
    "                                       if not pd.isnull(x['CLIENT_START_DATE'])\n",
    "                                          and int(x['CLIENT_START_DATE'][:4]) >= 1990   # data quality\n",
    "                                       else -1\n",
    "                          , axis=1).astype(np.int8))\n",
    "    df.drop('CLIENT_START_DATE', axis = 1, inplace = True)\n",
    "    \n",
    "    df['GENDER'] = df['GENDER'].map(lambda x: gender_dict[x]).astype(np.int8)\n",
    "    df['MARITAL_STATUS'] = df['MARITAL_STATUS'].map(lambda x: marital_status_dict[x]).astype(np.int8)\n",
    "    df['SEGMENT'] = df['SEGMENT'].map(lambda x: segment_dict[x]).astype(np.int8)\n",
    "    df['SUBSEGMENT'] = df['SUBSEGMENT'].map(lambda x: subsegment_dict['XNA' if pd.isnull(x)\n",
    "                                                                      else x]).astype(np.int8)\n",
    "    df['EDUCATION'] = df['EDUCATION'].map(lambda x: education_dict[x]).astype(np.int8)\n",
    "    \n",
    "    df['PROFESSION'] = df['PROFESSION'].astype(np.int16)\n",
    "    \n",
    "    df['BCR_EMPLOYEE'] = df['BCR_EMPLOYEE'].map(lambda x: bcr_employee_dict[x]).astype(np.int8)\n",
    "    df['WORKOUT_FLAG'] = df['WORKOUT_FLAG'].map(lambda x: workout_flag_dict[x]).astype(np.int8)\n",
    "\n",
    "    df['RATING_VALUE'] = df['RATING_VALUE'].map(lambda x: rating_value_dict[x]).astype(np.int8)\n",
    "\n",
    "    df['BRANCH_CODE'] = df['BRANCH_CODE'].astype(np.uint16)\n",
    "    df['CLIENT_DPD'] = df['CLIENT_DPD'].astype(np.uint16)\n",
    "    \n",
    "    df['MARKETING_AGREEMENT'] = df['MARKETING_AGREEMENT'].map(lambda x: marketing_agreement_dict[x]).astype(np.int8)\n",
    "\n",
    "    df['FLAG_ACTIVE_34'] = df['FLAG_ACTIVE_34'].astype(np.int8)\n",
    "    df['UNSECURED'] = df['UNSECURED'].astype(np.int8)\n",
    "    df['SECURED'] = df['SECURED'].astype(np.int8)\n",
    "    df['CREDITCARD'] = df['CREDITCARD'].astype(np.int8)\n",
    "    df['OVERDRAFT'] = df['OVERDRAFT'].astype(np.int8)\n",
    "    df['DEPOZIT'] = df['DEPOZIT'].astype(np.int8)\n",
    "    df['SAVING_PLAN'] = df['SAVING_PLAN'].astype(np.int8)\n",
    "    df['MAXICONT'] = df['MAXICONT'].astype(np.int8)\n",
    "    df['PPI'] = df['PPI'].astype(np.int8)\n",
    "    df['UL_KI'] = df['UL_KI'].astype(np.int8)\n",
    "    df['INDX_LINK'] = df['INDX_LINK'].astype(np.int8)\n",
    "    df['HEALTH'] = df['HEALTH'].astype(np.int8)\n",
    "    df['ACP'] = df['ACP'].astype(np.int8)\n",
    "    \n",
    "    df['PAD'] = df['PAD'].map(lambda x: -1 if np.isnan(x) else x).astype(np.int8)\n",
    "    df['ASSET'] = df['ASSET'].astype(np.int8)\n",
    "    \n",
    "    df['TITLURI'] = df['TITLURI'].astype(np.int8)\n",
    "    df['AUR'] = df['AUR'].astype(np.int8)\n",
    "    df['PENSII'] = df['PENSII'].astype(np.int8)\n",
    "    df['DIRECT_DEBIT'] = df['DIRECT_DEBIT'].astype(np.int8)\n",
    "    df['STANDING_ORDER'] = df['STANDING_ORDER'].astype(np.int8)\n",
    "    df['TRANZACTII_POS'] = df['TRANZACTII_POS'].astype(np.int8)\n",
    "    df['NET_BANKING'] = df['NET_BANKING'].astype(np.int8)\n",
    "\n",
    "    df['ACCOUNT'] = (df.apply(lambda x: 6 if x['TOTAL'] != 0 else\n",
    "                                        5 if x['CLASIC'] != 0 else\n",
    "                                        3 if x['COMOD'] != 0 else\n",
    "                                        2 if x['CAMPUS'] != 0 else\n",
    "                                        1 if x['JUNIOR'] != 0 else 4, axis=1).astype(np.int8))\n",
    "    df.drop(['JUNIOR', 'CAMPUS', 'COMOD', 'CLASIC', 'TOTAL'], axis=1, inplace=True)\n",
    "    \n",
    "    df['PBS_TYPE'] = df['PBS_TYPE'].map(lambda x: -1 if x == 'XNA' else 1).astype(np.int8)\n",
    "\n",
    "    df['CM1_A'] = df['CM1_A'].astype(np.float16)\n",
    "    df['CM1_L'] = df['CM1_L'].astype(np.float16)\n",
    "    df['NFC'] = df['NFC'].astype(np.float16)\n",
    "    df['BALANCE_MAX_CAS'] = df['BALANCE_MAX_CAS'].astype(np.float16)\n",
    "    df['BALANCE_AVG_CAS'] = df['BALANCE_AVG_CAS'].astype(np.float16)\n",
    "    df['BALANCE_MIN_CA_3MONTHS'] = df['BALANCE_MIN_CA_3MONTHS'].map(lambda x: -1 if np.isnan(x) else x).astype(np.float16)\n",
    "    \n",
    "    df['NO_SALARY'] = df['NO_SALARY'].map(lambda x: -1 if np.isnan(x) else x).astype(np.int8)\n",
    "    df['NO_CASH_LAST_MONTH'] = df['NO_CASH_LAST_MONTH'].map(lambda x: -1 if np.isnan(x) else x).astype(np.int8)\n",
    "    df['NO_OUTGOINGS_MONTH'] = df['NO_OUTGOINGS_MONTH'].map(lambda x: -1 if np.isnan(x) else x).astype(np.int8)\n",
    "\n",
    "    df['SALARY'] = df['SALARY'].map(lambda x: -1 if np.isnan(x) else x).astype(np.float16)\n",
    "    df['CASH_LAST_MONTH'] = df['CASH_LAST_MONTH'].map(lambda x: -1 if np.isnan(x) else x).astype(np.float16)\n",
    "    df['OUTGOINGS_MONTH'] = df['OUTGOINGS_MONTH'].map(lambda x: -1 if np.isnan(x) else x).astype(np.float16)\n",
    "    \n",
    "    return df"
   ]
  },
  {
   "cell_type": "code",
   "execution_count": 16,
   "metadata": {},
   "outputs": [
    {
     "name": "stdout",
     "output_type": "stream",
     "text": [
      "Load time:  85.34434879300534\n"
     ]
    }
   ],
   "source": [
    "tic0 = timeit.default_timer()\n",
    "\n",
    "reader = pd.read_csv('../data/C_CLIENTS_DATA_TABLE.dsv', sep=';', chunksize=100000) #, dtype=dtype_dict)\n",
    "\n",
    "#for chunk in reader:\n",
    "#    df = process_data(chunk)\n",
    "#    break\n",
    "    \n",
    "df = pd.concat([process_data(chunk) for chunk in reader])\n",
    "\n",
    "toc = timeit.default_timer()\n",
    "print('Load time: ', toc - tic0)"
   ]
  },
  {
   "cell_type": "code",
   "execution_count": 24,
   "metadata": {
    "collapsed": true
   },
   "outputs": [],
   "source": [
    "tic0 = timeit.default_timer()\n",
    "\n",
    "df.to_pickle('../cache/c_clients.pkl')\n",
    "#df.to_hdf('../data/processed/c_clients.hdf', 'dump', mode = 'w')\n",
    "\n",
    "for d in df['DAX'].unique():\n",
    "    df[df['DAX'] == d].to_pickle('../cache/c_' + d[0:4] + d[5:7] + '.pkl')\n",
    "\n",
    "print('Save time: ', toc - tic0)"
   ]
  },
  {
   "cell_type": "code",
   "execution_count": 18,
   "metadata": {},
   "outputs": [
    {
     "name": "stdout",
     "output_type": "stream",
     "text": [
      "<class 'pandas.core.frame.DataFrame'>\n",
      "RangeIndex: 100000 entries, 0 to 99999\n",
      "Data columns (total 53 columns):\n",
      "DAX                             100000 non-null object\n",
      "CIC                             100000 non-null uint32\n",
      "SEGMENT                         100000 non-null int8\n",
      "SUBSEGMENT                      100000 non-null int8\n",
      "GENDER                          100000 non-null int8\n",
      "MARITAL_STATUS                  100000 non-null int8\n",
      "EDUCATION                       100000 non-null int8\n",
      "PROFESSION                      100000 non-null int16\n",
      "BCR_EMPLOYEE                    100000 non-null int8\n",
      "WORKOUT_FLAG                    100000 non-null int8\n",
      "RATING_VALUE                    100000 non-null int8\n",
      "BRANCH_CODE                     100000 non-null uint16\n",
      "CLIENT_DPD                      100000 non-null uint16\n",
      "MARKETING_AGREEMENT             100000 non-null int8\n",
      "FLAG_ACTIVE_34                  100000 non-null int8\n",
      "UNSECURED                       100000 non-null int8\n",
      "SECURED                         100000 non-null int8\n",
      "CREDITCARD                      100000 non-null int8\n",
      "OVERDRAFT                       100000 non-null int8\n",
      "DEPOZIT                         100000 non-null int8\n",
      "SAVING_PLAN                     100000 non-null int8\n",
      "MAXICONT                        100000 non-null int8\n",
      "PPI                             100000 non-null int8\n",
      "UL_KI                           100000 non-null int8\n",
      "INDX_LINK                       100000 non-null int8\n",
      "HEALTH                          100000 non-null int8\n",
      "ACP                             100000 non-null int8\n",
      "PAD                             100000 non-null int8\n",
      "ASSET                           100000 non-null int8\n",
      "TITLURI                         100000 non-null int8\n",
      "AUR                             100000 non-null int8\n",
      "PENSII                          100000 non-null int8\n",
      "DIRECT_DEBIT                    100000 non-null int8\n",
      "STANDING_ORDER                  100000 non-null int8\n",
      "TRANZACTII_POS                  100000 non-null int8\n",
      "NET_BANKING                     100000 non-null int8\n",
      "PBS_TYPE                        100000 non-null int8\n",
      "CM1_A                           100000 non-null float16\n",
      "CM1_L                           100000 non-null float16\n",
      "NFC                             100000 non-null float16\n",
      "BALANCE_MAX_CAS                 0 non-null float16\n",
      "BALANCE_AVG_CAS                 0 non-null float16\n",
      "BALANCE_MIN_CA_3MONTHS          100000 non-null float16\n",
      "BALANCE_MAX_DEPOSITS_3MONTHS    0 non-null float64\n",
      "SALARY                          100000 non-null float16\n",
      "NO_SALARY                       100000 non-null int8\n",
      "CASH_LAST_MONTH                 100000 non-null float16\n",
      "NO_CASH_LAST_MONTH              100000 non-null int8\n",
      "OUTGOINGS_MONTH                 100000 non-null float16\n",
      "NO_OUTGOINGS_MONTH              100000 non-null int8\n",
      "AGE                             100000 non-null int8\n",
      "TENOR                           100000 non-null int8\n",
      "ACCOUNT                         100000 non-null int8\n",
      "dtypes: float16(9), float64(1), int16(1), int8(38), object(1), uint16(2), uint32(1)\n",
      "memory usage: 7.8+ MB\n"
     ]
    }
   ],
   "source": [
    "df.info()"
   ]
  },
  {
   "cell_type": "code",
   "execution_count": 11,
   "metadata": {},
   "outputs": [
    {
     "data": {
      "text/plain": [
       "0    53377\n",
       "1    46623\n",
       "Name: FLAG_ACTIVE_34, dtype: int64"
      ]
     },
     "execution_count": 11,
     "metadata": {},
     "output_type": "execute_result"
    }
   ],
   "source": [
    "df['FLAG_ACTIVE_34'].value_counts()"
   ]
  },
  {
   "cell_type": "code",
   "execution_count": null,
   "metadata": {
    "collapsed": true
   },
   "outputs": [],
   "source": []
  }
 ],
 "metadata": {
  "kernelspec": {
   "display_name": "Python 3",
   "language": "python",
   "name": "python3"
  },
  "language_info": {
   "codemirror_mode": {
    "name": "ipython",
    "version": 3
   },
   "file_extension": ".py",
   "mimetype": "text/x-python",
   "name": "python",
   "nbconvert_exporter": "python",
   "pygments_lexer": "ipython3",
   "version": "3.6.1"
  }
 },
 "nbformat": 4,
 "nbformat_minor": 2
}
